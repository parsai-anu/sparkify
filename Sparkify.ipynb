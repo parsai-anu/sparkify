{
 "cells": [
  {
   "cell_type": "markdown",
   "metadata": {},
   "source": [
    "# Sparkify Project Workspace\n",
    "This workspace contains a tiny subset (128MB) of the full dataset available (12GB). Feel free to use this workspace to build your project, or to explore a smaller subset with Spark before deploying your cluster on the cloud. Instructions for setting up your Spark cluster is included in the last lesson of the Extracurricular Spark Course content.\n",
    "\n",
    "You can follow the steps below to guide your data analysis and model building portion of this project."
   ]
  },
  {
   "cell_type": "code",
   "execution_count": 44,
   "metadata": {},
   "outputs": [],
   "source": [
    "# import libraries\n",
    "# import libraries\n",
    "from pyspark.sql import SparkSession\n",
    "from pyspark.sql.functions import avg, col, concat, desc, explode, lit, min, max, split, udf, isnull\n",
    "from pyspark.sql.types import IntegerType\n",
    "\n",
    "from pyspark.ml import Pipeline\n",
    "from pyspark.ml.classification import LogisticRegression, RandomForestClassifier, GBTClassifier, DecisionTreeClassifier, NaiveBayes\n",
    "from pyspark.ml.evaluation import MulticlassClassificationEvaluator\n",
    "from pyspark.ml.feature import CountVectorizer, IDF, Normalizer, PCA, RegexTokenizer, StandardScaler, StopWordsRemover, StringIndexer, VectorAssembler\n",
    "from pyspark.ml.regression import LinearRegression\n",
    "from pyspark.ml.tuning import CrossValidator, ParamGridBuilder\n",
    "from pyspark.sql.functions import avg, col, concat, desc, explode, lit, min, max, split, udf, count, when, isnull, collect_list\n",
    "from pyspark.sql.window import Window\n",
    "from pyspark.sql.types import IntegerType, DateType\n",
    "import pyspark.sql.functions as F\n",
    "\n",
    "import matplotlib.pyplot as plt\n",
    "from pyspark.ml.feature import MinMaxScaler\n",
    "import pandas as pd"
   ]
  },
  {
   "cell_type": "code",
   "execution_count": 45,
   "metadata": {},
   "outputs": [],
   "source": [
    "# create a Spark session\n",
    "spark = SparkSession \\\n",
    "    .builder \\\n",
    "    .appName(\"Session1\") \\\n",
    "    .getOrCreate()"
   ]
  },
  {
   "cell_type": "markdown",
   "metadata": {},
   "source": [
    "# Load and Clean Dataset\n",
    "In this workspace, the mini-dataset file is `mini_sparkify_event_data.json`. Load and clean the dataset, checking for invalid or missing data - for example, records without userids or sessionids. "
   ]
  },
  {
   "cell_type": "code",
   "execution_count": 46,
   "metadata": {},
   "outputs": [
    {
     "data": {
      "text/plain": [
       "DataFrame[artist: string, auth: string, firstName: string, gender: string, itemInSession: bigint, lastName: string, length: double, level: string, location: string, method: string, page: string, registration: bigint, sessionId: bigint, song: string, status: bigint, ts: bigint, userAgent: string, userId: string]"
      ]
     },
     "execution_count": 46,
     "metadata": {},
     "output_type": "execute_result"
    }
   ],
   "source": [
    "sparkify_data = 'mini_sparkify_event_data.json'\n",
    "df = spark.read.json(sparkify_data)\n",
    "df.persist()"
   ]
  },
  {
   "cell_type": "code",
   "execution_count": 47,
   "metadata": {},
   "outputs": [
    {
     "name": "stdout",
     "output_type": "stream",
     "text": [
      "(286500, 18)\n"
     ]
    }
   ],
   "source": [
    "print((df.count(), len(df.columns)))"
   ]
  },
  {
   "cell_type": "code",
   "execution_count": 48,
   "metadata": {},
   "outputs": [
    {
     "name": "stdout",
     "output_type": "stream",
     "text": [
      "+--------------------+---------+---------+------+-------------+--------+---------+-----+--------------------+------+---------------+-------------+---------+--------------------+------+-------------+--------------------+------+\n",
      "|              artist|     auth|firstName|gender|itemInSession|lastName|   length|level|            location|method|           page| registration|sessionId|                song|status|           ts|           userAgent|userId|\n",
      "+--------------------+---------+---------+------+-------------+--------+---------+-----+--------------------+------+---------------+-------------+---------+--------------------+------+-------------+--------------------+------+\n",
      "|      Martha Tilston|Logged In|    Colin|     M|           50| Freeman|277.89016| paid|     Bakersfield, CA|   PUT|       NextSong|1538173362000|       29|           Rockpools|   200|1538352117000|Mozilla/5.0 (Wind...|    30|\n",
      "|    Five Iron Frenzy|Logged In|    Micah|     M|           79|    Long|236.09424| free|Boston-Cambridge-...|   PUT|       NextSong|1538331630000|        8|              Canada|   200|1538352180000|\"Mozilla/5.0 (Win...|     9|\n",
      "|        Adam Lambert|Logged In|    Colin|     M|           51| Freeman| 282.8273| paid|     Bakersfield, CA|   PUT|       NextSong|1538173362000|       29|   Time For Miracles|   200|1538352394000|Mozilla/5.0 (Wind...|    30|\n",
      "|              Enigma|Logged In|    Micah|     M|           80|    Long|262.71302| free|Boston-Cambridge-...|   PUT|       NextSong|1538331630000|        8|Knocking On Forbi...|   200|1538352416000|\"Mozilla/5.0 (Win...|     9|\n",
      "|           Daft Punk|Logged In|    Colin|     M|           52| Freeman|223.60771| paid|     Bakersfield, CA|   PUT|       NextSong|1538173362000|       29|Harder Better Fas...|   200|1538352676000|Mozilla/5.0 (Wind...|    30|\n",
      "|The All-American ...|Logged In|    Micah|     M|           81|    Long|208.29995| free|Boston-Cambridge-...|   PUT|       NextSong|1538331630000|        8|      Don't Leave Me|   200|1538352678000|\"Mozilla/5.0 (Win...|     9|\n",
      "|The Velvet Underg...|Logged In|    Micah|     M|           82|    Long|260.46649| free|Boston-Cambridge-...|   PUT|       NextSong|1538331630000|        8|         Run Run Run|   200|1538352886000|\"Mozilla/5.0 (Win...|     9|\n",
      "|        Starflyer 59|Logged In|    Colin|     M|           53| Freeman|185.44281| paid|     Bakersfield, CA|   PUT|       NextSong|1538173362000|       29|Passengers (Old A...|   200|1538352899000|Mozilla/5.0 (Wind...|    30|\n",
      "|                null|Logged In|    Colin|     M|           54| Freeman|     null| paid|     Bakersfield, CA|   PUT|Add to Playlist|1538173362000|       29|                null|   200|1538352905000|Mozilla/5.0 (Wind...|    30|\n",
      "|            Frumpies|Logged In|    Colin|     M|           55| Freeman|134.47791| paid|     Bakersfield, CA|   PUT|       NextSong|1538173362000|       29|          Fuck Kitty|   200|1538353084000|Mozilla/5.0 (Wind...|    30|\n",
      "|        Britt Nicole|Logged In|    Micah|     M|           83|    Long| 229.8771| free|Boston-Cambridge-...|   PUT|       NextSong|1538331630000|        8|   Walk On The Water|   200|1538353146000|\"Mozilla/5.0 (Win...|     9|\n",
      "|                null|Logged In|    Micah|     M|           84|    Long|     null| free|Boston-Cambridge-...|   GET|    Roll Advert|1538331630000|        8|                null|   200|1538353150000|\"Mozilla/5.0 (Win...|     9|\n",
      "|Edward Sharpe & T...|Logged In|    Colin|     M|           56| Freeman|223.58159| paid|     Bakersfield, CA|   PUT|       NextSong|1538173362000|       29|                Jade|   200|1538353218000|Mozilla/5.0 (Wind...|    30|\n",
      "|               Tesla|Logged In|    Micah|     M|           85|    Long|201.06404| free|Boston-Cambridge-...|   PUT|       NextSong|1538331630000|        8|      Gettin' Better|   200|1538353375000|\"Mozilla/5.0 (Win...|     9|\n",
      "|                null|Logged In|    Micah|     M|           86|    Long|     null| free|Boston-Cambridge-...|   PUT|      Thumbs Up|1538331630000|        8|                null|   307|1538353376000|\"Mozilla/5.0 (Win...|     9|\n",
      "|         Stan Mosley|Logged In|    Colin|     M|           57| Freeman|246.69995| paid|     Bakersfield, CA|   PUT|       NextSong|1538173362000|       29|   So-Called Friends|   200|1538353441000|Mozilla/5.0 (Wind...|    30|\n",
      "|Florence + The Ma...|Logged In|    Micah|     M|           87|    Long|168.64608| free|Boston-Cambridge-...|   PUT|       NextSong|1538331630000|        8| You've Got The Love|   200|1538353576000|\"Mozilla/5.0 (Win...|     9|\n",
      "|   Tokyo Police Club|Logged In|  Ashlynn|     F|            0|Williams| 166.1122| free|     Tallahassee, FL|   PUT|       NextSong|1537365219000|      217|Citizens Of Tomorrow|   200|1538353668000|\"Mozilla/5.0 (Mac...|    74|\n",
      "|             Orishas|Logged In|    Colin|     M|           58| Freeman|222.22322| paid|     Bakersfield, CA|   PUT|       NextSong|1538173362000|       29|           Represent|   200|1538353687000|Mozilla/5.0 (Wind...|    30|\n",
      "|             Ratatat|Logged In|    Micah|     M|           88|    Long|229.77261| free|Boston-Cambridge-...|   PUT|       NextSong|1538331630000|        8|              Swisha|   200|1538353744000|\"Mozilla/5.0 (Win...|     9|\n",
      "+--------------------+---------+---------+------+-------------+--------+---------+-----+--------------------+------+---------------+-------------+---------+--------------------+------+-------------+--------------------+------+\n",
      "only showing top 20 rows\n",
      "\n"
     ]
    }
   ],
   "source": [
    "df.show()"
   ]
  },
  {
   "cell_type": "code",
   "execution_count": 49,
   "metadata": {},
   "outputs": [
    {
     "name": "stdout",
     "output_type": "stream",
     "text": [
      "root\n",
      " |-- artist: string (nullable = true)\n",
      " |-- auth: string (nullable = true)\n",
      " |-- firstName: string (nullable = true)\n",
      " |-- gender: string (nullable = true)\n",
      " |-- itemInSession: long (nullable = true)\n",
      " |-- lastName: string (nullable = true)\n",
      " |-- length: double (nullable = true)\n",
      " |-- level: string (nullable = true)\n",
      " |-- location: string (nullable = true)\n",
      " |-- method: string (nullable = true)\n",
      " |-- page: string (nullable = true)\n",
      " |-- registration: long (nullable = true)\n",
      " |-- sessionId: long (nullable = true)\n",
      " |-- song: string (nullable = true)\n",
      " |-- status: long (nullable = true)\n",
      " |-- ts: long (nullable = true)\n",
      " |-- userAgent: string (nullable = true)\n",
      " |-- userId: string (nullable = true)\n",
      "\n"
     ]
    }
   ],
   "source": [
    "df.printSchema()"
   ]
  },
  {
   "cell_type": "markdown",
   "metadata": {},
   "source": [
    "# Check nulls in the dataset"
   ]
  },
  {
   "cell_type": "code",
   "execution_count": 50,
   "metadata": {},
   "outputs": [],
   "source": [
    "def check_nulls(df):\n",
    "    \"\"\"Count nulls\n",
    "    \"\"\"\n",
    "    check_nulls = [c[0] for c in df.dtypes if c[1] != 'boolean']\n",
    "    null_df = df\\\n",
    "        .select([F.count(when(col(c).isNull(), c)).alias(c) for c in check_nulls])\\\n",
    "        .toPandas()\\\n",
    "        .T\n",
    "    null_df.columns=[\"num\"]\n",
    "    nulls_names = null_df.num.to_dict()\n",
    "    \n",
    "    return nulls_names"
   ]
  },
  {
   "cell_type": "code",
   "execution_count": 51,
   "metadata": {},
   "outputs": [
    {
     "data": {
      "text/plain": [
       "{'artist': 58392,\n",
       " 'auth': 0,\n",
       " 'firstName': 8346,\n",
       " 'gender': 8346,\n",
       " 'itemInSession': 0,\n",
       " 'lastName': 8346,\n",
       " 'length': 58392,\n",
       " 'level': 0,\n",
       " 'location': 8346,\n",
       " 'method': 0,\n",
       " 'page': 0,\n",
       " 'registration': 8346,\n",
       " 'sessionId': 0,\n",
       " 'song': 58392,\n",
       " 'status': 0,\n",
       " 'ts': 0,\n",
       " 'userAgent': 8346,\n",
       " 'userId': 0}"
      ]
     },
     "execution_count": 51,
     "metadata": {},
     "output_type": "execute_result"
    }
   ],
   "source": [
    "check_nulls(df)"
   ]
  },
  {
   "cell_type": "code",
   "execution_count": 52,
   "metadata": {},
   "outputs": [
    {
     "data": {
      "text/plain": [
       "8346"
      ]
     },
     "execution_count": 52,
     "metadata": {},
     "output_type": "execute_result"
    }
   ],
   "source": [
    "df.filter(df['userId']=='').count()"
   ]
  },
  {
   "cell_type": "code",
   "execution_count": 53,
   "metadata": {},
   "outputs": [
    {
     "data": {
      "text/plain": [
       "8346"
      ]
     },
     "execution_count": 53,
     "metadata": {},
     "output_type": "execute_result"
    }
   ],
   "source": [
    "df.select('registration').where(col('userId')=='').count()"
   ]
  },
  {
   "cell_type": "markdown",
   "metadata": {},
   "source": [
    "### There are 8k records which missing user information, since we are going to use user level info , hence we will drop these rows from analysis"
   ]
  },
  {
   "cell_type": "code",
   "execution_count": 54,
   "metadata": {},
   "outputs": [],
   "source": [
    "df = df.filter(col(\"userId\")!= '')"
   ]
  },
  {
   "cell_type": "code",
   "execution_count": 55,
   "metadata": {},
   "outputs": [
    {
     "data": {
      "text/plain": [
       "{'artist': 50046,\n",
       " 'auth': 0,\n",
       " 'firstName': 0,\n",
       " 'gender': 0,\n",
       " 'itemInSession': 0,\n",
       " 'lastName': 0,\n",
       " 'length': 50046,\n",
       " 'level': 0,\n",
       " 'location': 0,\n",
       " 'method': 0,\n",
       " 'page': 0,\n",
       " 'registration': 0,\n",
       " 'sessionId': 0,\n",
       " 'song': 50046,\n",
       " 'status': 0,\n",
       " 'ts': 0,\n",
       " 'userAgent': 0,\n",
       " 'userId': 0}"
      ]
     },
     "execution_count": 55,
     "metadata": {},
     "output_type": "execute_result"
    }
   ],
   "source": [
    "check_nulls(df)"
   ]
  },
  {
   "cell_type": "markdown",
   "metadata": {},
   "source": [
    "### Now we have removed rows which had missing user info which belonged to log out or guest auth type, the next task is to look at rows which have missing artist or song info"
   ]
  },
  {
   "cell_type": "code",
   "execution_count": 56,
   "metadata": {},
   "outputs": [
    {
     "data": {
      "text/plain": [
       "278154"
      ]
     },
     "execution_count": 56,
     "metadata": {},
     "output_type": "execute_result"
    }
   ],
   "source": [
    "df.count()"
   ]
  },
  {
   "cell_type": "code",
   "execution_count": 57,
   "metadata": {},
   "outputs": [
    {
     "name": "stdout",
     "output_type": "stream",
     "text": [
      "+---------+-------------------+\n",
      "|     auth|count(registration)|\n",
      "+---------+-------------------+\n",
      "|Cancelled|                 52|\n",
      "|Logged In|             278102|\n",
      "+---------+-------------------+\n",
      "\n"
     ]
    }
   ],
   "source": [
    "df.groupBy(\"auth\").agg(F.count(\"registration\")).show()"
   ]
  },
  {
   "cell_type": "code",
   "execution_count": 58,
   "metadata": {},
   "outputs": [
    {
     "name": "stdout",
     "output_type": "stream",
     "text": [
      "+--------+-------------+\n",
      "|    page|count(userId)|\n",
      "+--------+-------------+\n",
      "|NextSong|       228108|\n",
      "+--------+-------------+\n",
      "\n"
     ]
    }
   ],
   "source": [
    "df.where(F.col(\"artist\").isNotNull()).groupBy('page').\\\n",
    "agg(F.count(\"userId\")).show()"
   ]
  },
  {
   "cell_type": "markdown",
   "metadata": {},
   "source": [
    "### The null artist rows are distributed across various page where he user is not listeining to songs but performing other actions, hence we dont have to remove these rows"
   ]
  },
  {
   "cell_type": "code",
   "execution_count": 59,
   "metadata": {},
   "outputs": [
    {
     "name": "stdout",
     "output_type": "stream",
     "text": [
      "+--------------------+-------------+\n",
      "|                page|count(userId)|\n",
      "+--------------------+-------------+\n",
      "|              Cancel|           52|\n",
      "|    Submit Downgrade|           63|\n",
      "|         Thumbs Down|         2546|\n",
      "|                Home|        10082|\n",
      "|           Downgrade|         2055|\n",
      "|         Roll Advert|         3933|\n",
      "|              Logout|         3226|\n",
      "|       Save Settings|          310|\n",
      "|Cancellation Conf...|           52|\n",
      "|               About|          495|\n",
      "|            Settings|         1514|\n",
      "|     Add to Playlist|         6526|\n",
      "|          Add Friend|         4277|\n",
      "|           Thumbs Up|        12551|\n",
      "|                Help|         1454|\n",
      "|             Upgrade|          499|\n",
      "|               Error|          252|\n",
      "|      Submit Upgrade|          159|\n",
      "+--------------------+-------------+\n",
      "\n"
     ]
    }
   ],
   "source": [
    "df.where(F.col(\"artist\").isNull()).groupBy('page').\\\n",
    "agg(F.count(\"userId\")).show()"
   ]
  },
  {
   "cell_type": "markdown",
   "metadata": {},
   "source": [
    "### Some sessions have unusually high numbers of hit"
   ]
  },
  {
   "cell_type": "code",
   "execution_count": 60,
   "metadata": {},
   "outputs": [],
   "source": [
    "session_max_item=df.groupBy('sessionId').\\\n",
    "agg(F.max(\"itemInSession\")).toPandas()"
   ]
  },
  {
   "cell_type": "code",
   "execution_count": 61,
   "metadata": {},
   "outputs": [],
   "source": [
    "# session_max_item"
   ]
  },
  {
   "cell_type": "code",
   "execution_count": 62,
   "metadata": {},
   "outputs": [
    {
     "data": {
      "text/plain": [
       "(array([  1.67500000e+03,   4.00000000e+02,   1.50000000e+02,\n",
       "          5.20000000e+01,   2.60000000e+01,   6.00000000e+00,\n",
       "          1.00000000e+00,   0.00000000e+00,   1.00000000e+00,\n",
       "          1.00000000e+00]),\n",
       " array([    0. ,   132.1,   264.2,   396.3,   528.4,   660.5,   792.6,\n",
       "          924.7,  1056.8,  1188.9,  1321. ]),\n",
       " <a list of 10 Patch objects>)"
      ]
     },
     "execution_count": 62,
     "metadata": {},
     "output_type": "execute_result"
    },
    {
     "data": {
      "image/png": "[encoded data removed]",
      "text/plain": [
       "<matplotlib.figure.Figure at 0x7feb21805cf8>"
      ]
     },
     "metadata": {
      "needs_background": "light"
     },
     "output_type": "display_data"
    }
   ],
   "source": [
    "plt.hist(session_max_item['max(itemInSession)'])"
   ]
  },
  {
   "cell_type": "markdown",
   "metadata": {},
   "source": [
    "### Lets see what are the mean and std deviation of numbers of items in a session"
   ]
  },
  {
   "cell_type": "code",
   "execution_count": 63,
   "metadata": {},
   "outputs": [
    {
     "data": {
      "text/plain": [
       "108.4757785467128"
      ]
     },
     "execution_count": 63,
     "metadata": {},
     "output_type": "execute_result"
    }
   ],
   "source": [
    "session_max_item['max(itemInSession)'].mean()"
   ]
  },
  {
   "cell_type": "code",
   "execution_count": 64,
   "metadata": {},
   "outputs": [
    {
     "data": {
      "text/plain": [
       "123.76252480420017"
      ]
     },
     "execution_count": 64,
     "metadata": {},
     "output_type": "execute_result"
    }
   ],
   "source": [
    "session_max_item['max(itemInSession)'].std()"
   ]
  },
  {
   "cell_type": "markdown",
   "metadata": {},
   "source": [
    "### We will remove those rows which represent items 1  std. deviation away from the average number of items in a session, because it is unlikely that a particular uses will hit do so many actions in one session"
   ]
  },
  {
   "cell_type": "code",
   "execution_count": 65,
   "metadata": {},
   "outputs": [],
   "source": [
    "outlier_tems=108+123"
   ]
  },
  {
   "cell_type": "code",
   "execution_count": 66,
   "metadata": {},
   "outputs": [],
   "source": [
    "df_cleaned=df.filter(col('itemInSession')<=231)"
   ]
  },
  {
   "cell_type": "code",
   "execution_count": 67,
   "metadata": {},
   "outputs": [
    {
     "data": {
      "text/plain": [
       "238317"
      ]
     },
     "execution_count": 67,
     "metadata": {},
     "output_type": "execute_result"
    }
   ],
   "source": [
    "df_cleaned.count()"
   ]
  },
  {
   "cell_type": "markdown",
   "metadata": {},
   "source": [
    "### The data is unique at user_id,sessionid and itemInSession level"
   ]
  },
  {
   "cell_type": "code",
   "execution_count": 68,
   "metadata": {},
   "outputs": [
    {
     "data": {
      "text/plain": [
       "238317"
      ]
     },
     "execution_count": 68,
     "metadata": {},
     "output_type": "execute_result"
    }
   ],
   "source": [
    "df_cleaned.drop_duplicates(subset=['userId','sessionId','itemInSession']).count()"
   ]
  },
  {
   "cell_type": "code",
   "execution_count": 69,
   "metadata": {},
   "outputs": [],
   "source": [
    "w = Window.partitionBy('userId',\"sessionId\").orderBy('itemInSession')"
   ]
  },
  {
   "cell_type": "code",
   "execution_count": 70,
   "metadata": {},
   "outputs": [],
   "source": [
    "df_cleaned=df_cleaned.withColumn('next_ts',\n",
    "                        F.lead(df_cleaned['ts'])\n",
    "                                 .over(w))\n",
    "\n"
   ]
  },
  {
   "cell_type": "code",
   "execution_count": 71,
   "metadata": {},
   "outputs": [],
   "source": [
    "df_cleaned=df_cleaned.withColumn('item_duration',(col('next_ts')-col('ts'))/1000/60)"
   ]
  },
  {
   "cell_type": "code",
   "execution_count": 72,
   "metadata": {},
   "outputs": [],
   "source": [
    "# df_cleaned.select('next_ts','ts','sessionId','itemInSession','item_duration').show()"
   ]
  },
  {
   "cell_type": "markdown",
   "metadata": {},
   "source": [
    "#### Mean item duration is 3 mins and std dev is 2 min"
   ]
  },
  {
   "cell_type": "code",
   "execution_count": 73,
   "metadata": {},
   "outputs": [
    {
     "name": "stdout",
     "output_type": "stream",
     "text": [
      "+------------------+\n",
      "|avg(item_duration)|\n",
      "+------------------+\n",
      "| 3.448620047829462|\n",
      "+------------------+\n",
      "\n"
     ]
    }
   ],
   "source": [
    "df_cleaned.select(F.mean('item_duration')).show()"
   ]
  },
  {
   "cell_type": "code",
   "execution_count": 74,
   "metadata": {},
   "outputs": [
    {
     "name": "stdout",
     "output_type": "stream",
     "text": [
      "+--------------------------+\n",
      "|stddev_samp(item_duration)|\n",
      "+--------------------------+\n",
      "|         2.198672307415625|\n",
      "+--------------------------+\n",
      "\n"
     ]
    }
   ],
   "source": [
    "df_cleaned.select(F.stddev('item_duration')).show()"
   ]
  },
  {
   "cell_type": "markdown",
   "metadata": {},
   "source": [
    "### Then we analyzed the mean time spent in each item in session"
   ]
  },
  {
   "cell_type": "code",
   "execution_count": 75,
   "metadata": {},
   "outputs": [],
   "source": [
    "df_temp=df_cleaned.select('item_duration').toPandas()"
   ]
  },
  {
   "cell_type": "code",
   "execution_count": 76,
   "metadata": {},
   "outputs": [],
   "source": [
    "df_temp=df_temp[df_temp['item_duration']>=0]"
   ]
  },
  {
   "cell_type": "code",
   "execution_count": 77,
   "metadata": {},
   "outputs": [
    {
     "data": {
      "text/plain": [
       "{'whiskers': [<matplotlib.lines.Line2D at 0x7feb1858a278>,\n",
       "  <matplotlib.lines.Line2D at 0x7feb1858a7b8>],\n",
       " 'caps': [<matplotlib.lines.Line2D at 0x7feb1858ac18>,\n",
       "  <matplotlib.lines.Line2D at 0x7feb1859a0b8>],\n",
       " 'boxes': [<matplotlib.lines.Line2D at 0x7feb20987278>],\n",
       " 'medians': [<matplotlib.lines.Line2D at 0x7feb1859a518>],\n",
       " 'fliers': [<matplotlib.lines.Line2D at 0x7feb1859a978>],\n",
       " 'means': []}"
      ]
     },
     "execution_count": 77,
     "metadata": {},
     "output_type": "execute_result"
    },
    {
     "data": {
      "image/png": "[encoded data removed]",
      "text/plain": [
       "<matplotlib.figure.Figure at 0x7feb4da14b38>"
      ]
     },
     "metadata": {
      "needs_background": "light"
     },
     "output_type": "display_data"
    }
   ],
   "source": [
    "plt.boxplot(df_temp['item_duration'])"
   ]
  },
  {
   "cell_type": "markdown",
   "metadata": {},
   "source": [
    "# Exploratory Data Analysis\n",
    "When you're working with the full dataset, perform EDA by loading a small subset of the data and doing basic manipulations within Spark. In this workspace, you are already provided a small subset of data you can explore.\n",
    "\n",
    "### Define Churn\n",
    "\n",
    "Once you've done some preliminary analysis, create a column `Churn` to use as the label for your model. I suggest using the `Cancellation Confirmation` events to define your churn, which happen for both paid and free users. As a bonus task, you can also look into the `Downgrade` events.\n",
    "\n",
    "### Explore Data\n",
    "Once you've defined churn, perform some exploratory data analysis to observe the behavior for users who stayed vs users who churned. You can start by exploring aggregates on these two groups of users, observing how much of a specific action they experienced per a certain time unit or number of songs played."
   ]
  },
  {
   "cell_type": "markdown",
   "metadata": {},
   "source": [
    "#### Now lets create  a churn column"
   ]
  },
  {
   "cell_type": "code",
   "execution_count": 78,
   "metadata": {},
   "outputs": [],
   "source": [
    "df_cleaned = df_cleaned.withColumn('churn_event', F.when(col('page')=='Cancellation Confirmation',1).otherwise(0))"
   ]
  },
  {
   "cell_type": "markdown",
   "metadata": {},
   "source": [
    "### Now based on what is status of each user in their latest ts we"
   ]
  },
  {
   "cell_type": "code",
   "execution_count": 79,
   "metadata": {},
   "outputs": [],
   "source": [
    "df_cleaned=df_cleaned.withColumn('has_the_user_churned',\n",
    "               F.sum('churn_event')\\\n",
    "                    .over(Window\\\n",
    "                         .partitionBy('userId')\\\n",
    "                         .orderBy(F.desc('ts'))))"
   ]
  },
  {
   "cell_type": "code",
   "execution_count": 80,
   "metadata": {},
   "outputs": [],
   "source": [
    "df_user_churn=df_cleaned.groupby('userId').agg(F.sum(col('churn_event')))"
   ]
  },
  {
   "cell_type": "code",
   "execution_count": 81,
   "metadata": {},
   "outputs": [],
   "source": [
    "df_user_churn=df_user_churn.withColumn('user_churn',F.when(col('sum(churn_event)')>=1,1).otherwise(0))"
   ]
  },
  {
   "cell_type": "code",
   "execution_count": 82,
   "metadata": {},
   "outputs": [
    {
     "name": "stdout",
     "output_type": "stream",
     "text": [
      "+---------------+\n",
      "|sum(user_churn)|\n",
      "+---------------+\n",
      "|             47|\n",
      "+---------------+\n",
      "\n"
     ]
    }
   ],
   "source": [
    "df_user_churn.select('user_churn').agg(F.sum(col('user_churn'))).show()"
   ]
  },
  {
   "cell_type": "code",
   "execution_count": 83,
   "metadata": {},
   "outputs": [
    {
     "data": {
      "text/plain": [
       "225"
      ]
     },
     "execution_count": 83,
     "metadata": {},
     "output_type": "execute_result"
    }
   ],
   "source": [
    "df_user_churn.count()"
   ]
  },
  {
   "cell_type": "code",
   "execution_count": 84,
   "metadata": {},
   "outputs": [],
   "source": [
    "df_cleaned_1=df_cleaned.join(df_user_churn,on=['userId'],how='left')"
   ]
  },
  {
   "cell_type": "markdown",
   "metadata": {},
   "source": [
    "### Now that we have a churn column, lets analyze each user based on its churn flag"
   ]
  },
  {
   "cell_type": "code",
   "execution_count": 85,
   "metadata": {},
   "outputs": [],
   "source": [
    "df1=df_cleaned_1.select('userId','user_churn','gender').drop_duplicates().toPandas()"
   ]
  },
  {
   "cell_type": "code",
   "execution_count": 86,
   "metadata": {},
   "outputs": [],
   "source": [
    "def feature_bar(df, inputcol,target='user_churn'):\n",
    "   \n",
    "    fig, ax = plt.subplots(1, 1, figsize=(10, 10))\n",
    "    data = df.groupby([inputcol, 'user_churn']).size().unstack()\n",
    "    print(data)\n",
    "    data.plot(kind='bar', ax=ax)\n",
    "    ax.set_ylabel('Count')\n",
    "    plt.suptitle(f'{inputcol} by {target}')"
   ]
  },
  {
   "cell_type": "code",
   "execution_count": 87,
   "metadata": {},
   "outputs": [
    {
     "name": "stdout",
     "output_type": "stream",
     "text": [
      "Female Churned % 16.346153846153847\n"
     ]
    }
   ],
   "source": [
    "print('Female Churned %',17/(17+87)*100)\n"
   ]
  },
  {
   "cell_type": "code",
   "execution_count": 88,
   "metadata": {},
   "outputs": [
    {
     "name": "stdout",
     "output_type": "stream",
     "text": [
      "Male Churned % 24.793388429752067\n"
     ]
    }
   ],
   "source": [
    "print('Male Churned %',30/(91+30)*100)"
   ]
  },
  {
   "cell_type": "code",
   "execution_count": 89,
   "metadata": {},
   "outputs": [
    {
     "name": "stdout",
     "output_type": "stream",
     "text": [
      "user_churn   0   1\n",
      "gender            \n",
      "F           87  17\n",
      "M           91  30\n"
     ]
    },
    {
     "data": {
      "image/png": "[encoded data removed]",
      "text/plain": [
       "<matplotlib.figure.Figure at 0x7feb209aef60>"
      ]
     },
     "metadata": {
      "needs_background": "light"
     },
     "output_type": "display_data"
    }
   ],
   "source": [
    "feature_bar(df1,'gender')"
   ]
  },
  {
   "cell_type": "markdown",
   "metadata": {},
   "source": [
    "### This shows the 24% Males are churning against 16% males, hence gender can be an important factor in detrmining churn"
   ]
  },
  {
   "cell_type": "code",
   "execution_count": 90,
   "metadata": {},
   "outputs": [],
   "source": [
    "df2=df_cleaned_1.select('userId','user_churn','page').toPandas()"
   ]
  },
  {
   "cell_type": "code",
   "execution_count": 91,
   "metadata": {},
   "outputs": [
    {
     "name": "stdout",
     "output_type": "stream",
     "text": [
      "user_churn                        0        1\n",
      "page                                        \n",
      "About                         364.0     40.0\n",
      "Add Friend                   3175.0    491.0\n",
      "Add to Playlist              4793.0    731.0\n",
      "Cancel                          NaN     47.0\n",
      "Cancellation Confirmation       NaN     47.0\n",
      "Downgrade                    1486.0    240.0\n",
      "Error                         200.0     25.0\n",
      "Help                         1063.0    189.0\n",
      "Home                         7602.0   1277.0\n",
      "Logout                       2395.0    407.0\n",
      "NextSong                   168114.0  26599.0\n",
      "Roll Advert                  2941.0    880.0\n",
      "Save Settings                 234.0     46.0\n",
      "Settings                     1105.0    197.0\n",
      "Submit Downgrade               47.0      9.0\n",
      "Submit Upgrade                128.0     27.0\n",
      "Thumbs Down                  1825.0    388.0\n",
      "Thumbs Up                    9397.0   1323.0\n",
      "Upgrade                       387.0     98.0\n"
     ]
    },
    {
     "data": {
      "image/png": "[encoded data removed]",
      "text/plain": [
       "<matplotlib.figure.Figure at 0x7feb2099c898>"
      ]
     },
     "metadata": {
      "needs_background": "light"
     },
     "output_type": "display_data"
    }
   ],
   "source": [
    "feature_bar(df2,'page')"
   ]
  },
  {
   "cell_type": "markdown",
   "metadata": {},
   "source": [
    "#### The above plot is very crucial, it shows that the users who dont churn click on Next Song the most, they also add more friends, they add more songs to playlist, they give thumbs up/down to more songs- basically are proactively reviewing the application , they also browse the home page a lot"
   ]
  },
  {
   "cell_type": "code",
   "execution_count": 92,
   "metadata": {},
   "outputs": [
    {
     "data": {
      "text/plain": [
       "Column<b'item_duration'>"
      ]
     },
     "execution_count": 92,
     "metadata": {},
     "output_type": "execute_result"
    }
   ],
   "source": [
    "df_cleaned_1['item_duration']"
   ]
  },
  {
   "cell_type": "code",
   "execution_count": 93,
   "metadata": {},
   "outputs": [],
   "source": [
    "df3=df_cleaned_1.filter(col('page')=='NextSong').groupBy('userId','user_churn','sessionId').agg(F.sum(col('item_duration'))).groupBy('user_churn').agg(F.avg(col('sum(item_duration)')).alias('Mean_session_Mins')).toPandas()"
   ]
  },
  {
   "cell_type": "code",
   "execution_count": 94,
   "metadata": {},
   "outputs": [
    {
     "data": {
      "text/plain": [
       "Text(0.5,1,'Mean Time Spent by the user who churned versus who did not churn')"
      ]
     },
     "execution_count": 94,
     "metadata": {},
     "output_type": "execute_result"
    },
    {
     "data": {
      "image/png": "[encoded data removed]",
      "text/plain": [
       "<matplotlib.figure.Figure at 0x7feb18e9bf60>"
      ]
     },
     "metadata": {
      "needs_background": "light"
     },
     "output_type": "display_data"
    }
   ],
   "source": [
    "plt.bar(df3['user_churn'],df3['Mean_session_Mins'],width=0.2)\n",
    "plt.title('Mean Time Spent by the user who churned versus who did not churn')"
   ]
  },
  {
   "cell_type": "markdown",
   "metadata": {},
   "source": [
    "### From the plot we can see the users who churn on an average spend less time than those who did not"
   ]
  },
  {
   "cell_type": "code",
   "execution_count": 95,
   "metadata": {},
   "outputs": [],
   "source": [
    "df4=df_cleaned_1.select('userId','user_churn','level').drop_duplicates().toPandas()"
   ]
  },
  {
   "cell_type": "code",
   "execution_count": 96,
   "metadata": {},
   "outputs": [
    {
     "name": "stdout",
     "output_type": "stream",
     "text": [
      "Free Users Churn % 21.243523316062177\n"
     ]
    }
   ],
   "source": [
    "print('Free Users Churn %',41/(41+152)*100)"
   ]
  },
  {
   "cell_type": "code",
   "execution_count": 97,
   "metadata": {},
   "outputs": [
    {
     "name": "stdout",
     "output_type": "stream",
     "text": [
      "Paid Users Churn % 18.902439024390244\n"
     ]
    }
   ],
   "source": [
    "print('Paid Users Churn %',31/(31+133)*100)"
   ]
  },
  {
   "cell_type": "code",
   "execution_count": 98,
   "metadata": {},
   "outputs": [
    {
     "name": "stdout",
     "output_type": "stream",
     "text": [
      "user_churn    0   1\n",
      "level              \n",
      "free        152  41\n",
      "paid        133  31\n"
     ]
    },
    {
     "data": {
      "image/png": "[encoded data removed]",
      "text/plain": [
       "<matplotlib.figure.Figure at 0x7feb20c115f8>"
      ]
     },
     "metadata": {
      "needs_background": "light"
     },
     "output_type": "display_data"
    }
   ],
   "source": [
    "feature_bar(df4,'level')"
   ]
  },
  {
   "cell_type": "markdown",
   "metadata": {},
   "source": [
    "### The above plot shows that free users have churned more (21%) as copared to paid user 18%"
   ]
  },
  {
   "cell_type": "code",
   "execution_count": 99,
   "metadata": {},
   "outputs": [],
   "source": [
    "df5=df_cleaned_1.select('user_churn','method').toPandas()"
   ]
  },
  {
   "cell_type": "code",
   "execution_count": 100,
   "metadata": {},
   "outputs": [
    {
     "data": {
      "text/plain": [
       "(238317, 2)"
      ]
     },
     "execution_count": 100,
     "metadata": {},
     "output_type": "execute_result"
    }
   ],
   "source": [
    "df5.shape"
   ]
  },
  {
   "cell_type": "code",
   "execution_count": 101,
   "metadata": {},
   "outputs": [
    {
     "data": {
      "text/plain": [
       "0.19758383945075259"
      ]
     },
     "execution_count": 101,
     "metadata": {},
     "output_type": "execute_result"
    }
   ],
   "source": [
    "2993/15148\n",
    "# 30068/190108"
   ]
  },
  {
   "cell_type": "code",
   "execution_count": 102,
   "metadata": {},
   "outputs": [
    {
     "name": "stdout",
     "output_type": "stream",
     "text": [
      "user_churn       0      1\n",
      "method                   \n",
      "GET          15148   2993\n",
      "PUT         190108  30068\n"
     ]
    },
    {
     "data": {
      "image/png": "[encoded data removed]",
      "text/plain": [
       "<matplotlib.figure.Figure at 0x7feb17e31e10>"
      ]
     },
     "metadata": {
      "needs_background": "light"
     },
     "output_type": "display_data"
    }
   ],
   "source": [
    "feature_bar(df5,'method')"
   ]
  },
  {
   "cell_type": "markdown",
   "metadata": {},
   "source": [
    "### Churn rate is high in people using get method as compared to put"
   ]
  },
  {
   "cell_type": "code",
   "execution_count": 103,
   "metadata": {},
   "outputs": [],
   "source": [
    "df6=df_cleaned_1.select('user_churn','userAgent').toPandas()"
   ]
  },
  {
   "cell_type": "code",
   "execution_count": 104,
   "metadata": {},
   "outputs": [
    {
     "name": "stdout",
     "output_type": "stream",
     "text": [
      "user_churn                                                0       1\n",
      "userAgent                                                          \n",
      "\"Mozilla/5.0 (Macintosh; Intel Mac OS X 10_10) ...   1209.0     NaN\n",
      "\"Mozilla/5.0 (Macintosh; Intel Mac OS X 10_10) ...   5509.0     NaN\n",
      "\"Mozilla/5.0 (Macintosh; Intel Mac OS X 10_6_8)...      NaN   187.0\n",
      "\"Mozilla/5.0 (Macintosh; Intel Mac OS X 10_7_5)...    379.0     NaN\n",
      "\"Mozilla/5.0 (Macintosh; Intel Mac OS X 10_7_5)...    573.0     NaN\n",
      "\"Mozilla/5.0 (Macintosh; Intel Mac OS X 10_8_5)...    240.0     NaN\n",
      "\"Mozilla/5.0 (Macintosh; Intel Mac OS X 10_8_5)...    235.0     NaN\n",
      "\"Mozilla/5.0 (Macintosh; Intel Mac OS X 10_9_2)...    740.0  1638.0\n",
      "\"Mozilla/5.0 (Macintosh; Intel Mac OS X 10_9_2)...    789.0     NaN\n",
      "\"Mozilla/5.0 (Macintosh; Intel Mac OS X 10_9_2)...    310.0     NaN\n",
      "\"Mozilla/5.0 (Macintosh; Intel Mac OS X 10_9_3)...   1710.0     NaN\n",
      "\"Mozilla/5.0 (Macintosh; Intel Mac OS X 10_9_4)...    639.0   468.0\n",
      "\"Mozilla/5.0 (Macintosh; Intel Mac OS X 10_9_4)...  12474.0  2069.0\n",
      "\"Mozilla/5.0 (Macintosh; Intel Mac OS X 10_9_4)...  12659.0  1050.0\n",
      "\"Mozilla/5.0 (Macintosh; Intel Mac OS X 10_9_4)...   6505.0   268.0\n",
      "\"Mozilla/5.0 (Macintosh; Intel Mac OS X 10_9_4)...  12973.0  3763.0\n",
      "\"Mozilla/5.0 (Macintosh; Intel Mac OS X 10_9_4)...   5686.0  1929.0\n",
      "\"Mozilla/5.0 (Windows NT 5.1) AppleWebKit/537.3...   1899.0     NaN\n",
      "\"Mozilla/5.0 (Windows NT 5.1) AppleWebKit/537.3...   4409.0     NaN\n",
      "\"Mozilla/5.0 (Windows NT 6.1) AppleWebKit/537.3...   2074.0     NaN\n",
      "\"Mozilla/5.0 (Windows NT 6.1) AppleWebKit/537.3...   5985.0  1371.0\n",
      "\"Mozilla/5.0 (Windows NT 6.1; WOW64) AppleWebKi...   1933.0     NaN\n",
      "\"Mozilla/5.0 (Windows NT 6.1; WOW64) AppleWebKi...  12872.0   158.0\n",
      "\"Mozilla/5.0 (Windows NT 6.1; WOW64) AppleWebKi...  15733.0  3614.0\n",
      "\"Mozilla/5.0 (Windows NT 6.1; WOW64) AppleWebKi...  10962.0  1773.0\n",
      "\"Mozilla/5.0 (Windows NT 6.1; WOW64) AppleWebKi...   2798.0   671.0\n",
      "\"Mozilla/5.0 (Windows NT 6.2; WOW64) AppleWebKi...   2214.0     NaN\n",
      "\"Mozilla/5.0 (Windows NT 6.2; WOW64) AppleWebKi...    410.0     NaN\n",
      "\"Mozilla/5.0 (Windows NT 6.3; WOW64) AppleWebKi...   3259.0   932.0\n",
      "\"Mozilla/5.0 (Windows NT 6.3; WOW64) AppleWebKi...   5505.0  1698.0\n",
      "\"Mozilla/5.0 (X11; Linux x86_64) AppleWebKit/53...   1496.0   143.0\n",
      "\"Mozilla/5.0 (X11; Linux x86_64) AppleWebKit/53...   2733.0     NaN\n",
      "\"Mozilla/5.0 (iPad; CPU OS 7_1_1 like Mac OS X)...   1576.0     NaN\n",
      "\"Mozilla/5.0 (iPad; CPU OS 7_1_2 like Mac OS X)...   7652.0     NaN\n",
      "\"Mozilla/5.0 (iPhone; CPU iPhone OS 7_1 like Ma...   2573.0     NaN\n",
      "\"Mozilla/5.0 (iPhone; CPU iPhone OS 7_1_1 like ...   1533.0     NaN\n",
      "\"Mozilla/5.0 (iPhone; CPU iPhone OS 7_1_2 like ...   4996.0  1010.0\n",
      "Mozilla/5.0 (Macintosh; Intel Mac OS X 10.6; rv...    251.0     NaN\n",
      "Mozilla/5.0 (Macintosh; Intel Mac OS X 10.7; rv...    579.0  1460.0\n",
      "Mozilla/5.0 (Macintosh; Intel Mac OS X 10.8; rv...   1843.0     NaN\n",
      "Mozilla/5.0 (Macintosh; Intel Mac OS X 10.9; rv...   6735.0  2462.0\n",
      "Mozilla/5.0 (Windows NT 6.0; rv:31.0) Gecko/201...   1827.0     NaN\n",
      "Mozilla/5.0 (Windows NT 6.1; WOW64; Trident/7.0...   4258.0     NaN\n",
      "Mozilla/5.0 (Windows NT 6.1; WOW64; rv:24.0) Ge...    815.0     NaN\n",
      "Mozilla/5.0 (Windows NT 6.1; WOW64; rv:30.0) Ge...   3061.0     NaN\n",
      "Mozilla/5.0 (Windows NT 6.1; WOW64; rv:31.0) Ge...  13427.0   558.0\n",
      "Mozilla/5.0 (Windows NT 6.1; WOW64; rv:32.0) Ge...    218.0  2940.0\n",
      "Mozilla/5.0 (Windows NT 6.1; rv:31.0) Gecko/201...    936.0    36.0\n",
      "Mozilla/5.0 (Windows NT 6.2; WOW64; rv:31.0) Ge...      NaN  1242.0\n",
      "Mozilla/5.0 (Windows NT 6.3; WOW64; rv:31.0) Ge...   3165.0   918.0\n",
      "Mozilla/5.0 (X11; Linux x86_64; rv:31.0) Gecko/...   2272.0     NaN\n",
      "Mozilla/5.0 (X11; Ubuntu; Linux i686; rv:31.0) ...      NaN    62.0\n",
      "Mozilla/5.0 (X11; Ubuntu; Linux x86_64; rv:31.0...   1177.0   641.0\n",
      "Mozilla/5.0 (compatible; MSIE 10.0; Windows NT ...    815.0     NaN\n",
      "Mozilla/5.0 (compatible; MSIE 9.0; Windows NT 6...   1195.0     NaN\n",
      "Mozilla/5.0 (compatible; MSIE 9.0; Windows NT 6...   7440.0     NaN\n"
     ]
    },
    {
     "data": {
      "image/png": "[encoded data removed]",
      "text/plain": [
       "<matplotlib.figure.Figure at 0x7feb18ea88d0>"
      ]
     },
     "metadata": {
      "needs_background": "light"
     },
     "output_type": "display_data"
    }
   ],
   "source": [
    "feature_bar(df6,'userAgent')"
   ]
  },
  {
   "cell_type": "markdown",
   "metadata": {},
   "source": [
    "### Certain USer Agents have more percentage of people churning while others have less"
   ]
  },
  {
   "cell_type": "markdown",
   "metadata": {},
   "source": [
    "# Feature Engineering\n",
    "Once you've familiarized yourself with the data, build out the features you find promising to train your model on. To work with the full dataset, you can follow the following steps.\n",
    "- Write a script to extract the necessary features from the smaller subset of data\n",
    "- Ensure that your script is scalable, using the best practices discussed in Lesson 3\n",
    "- Try your script on the full data set, debugging your script if necessary\n",
    "\n",
    "If you are working in the classroom workspace, you can just extract features based on the small subset of data contained here. Be sure to transfer over this work to the larger dataset when you work on your Spark cluster."
   ]
  },
  {
   "cell_type": "markdown",
   "metadata": {},
   "source": [
    "### User level features such as gender,level"
   ]
  },
  {
   "cell_type": "code",
   "execution_count": 105,
   "metadata": {},
   "outputs": [],
   "source": [
    "f1= df_cleaned_1.select('userId','gender','level','user_churn').drop_duplicates()"
   ]
  },
  {
   "cell_type": "markdown",
   "metadata": {},
   "source": [
    "### How long does a user spends on an item in a session"
   ]
  },
  {
   "cell_type": "code",
   "execution_count": 106,
   "metadata": {},
   "outputs": [],
   "source": [
    "f2=df_cleaned_1.groupBy('userId','user_churn','sessionId').agg(F.sum(col('item_duration'))).groupBy('userId').agg(F.avg(col('sum(item_duration)')).alias('Mean_session_Mins'))"
   ]
  },
  {
   "cell_type": "markdown",
   "metadata": {},
   "source": [
    "#### Number of artist listened per session"
   ]
  },
  {
   "cell_type": "code",
   "execution_count": 107,
   "metadata": {},
   "outputs": [],
   "source": [
    "f3=df_cleaned_1.groupBy('userId','user_churn','sessionId').agg(F.countDistinct(col('artist'))).groupby('userId').agg(F.mean(col('count(DISTINCT artist)')).alias('Avg_artist_per_session'))"
   ]
  },
  {
   "cell_type": "markdown",
   "metadata": {},
   "source": [
    "### How long does a session last on an average"
   ]
  },
  {
   "cell_type": "code",
   "execution_count": 108,
   "metadata": {},
   "outputs": [],
   "source": [
    "f4=df_cleaned_1.groupBy('userId','sessionId').agg(F.sum(col('item_duration'))).groupby('userId').agg(F.mean(col('sum(item_duration)')).alias('Avg_session_mins'))"
   ]
  },
  {
   "cell_type": "markdown",
   "metadata": {},
   "source": [
    "### How many times a user clicks on Next Song"
   ]
  },
  {
   "cell_type": "code",
   "execution_count": 109,
   "metadata": {},
   "outputs": [],
   "source": [
    "f5=df_cleaned_1.filter(col('page')=='NextSong').groupBy('userId').agg(F.count(col('page')).alias('Next_Song_clicks'))"
   ]
  },
  {
   "cell_type": "markdown",
   "metadata": {},
   "source": [
    "### How many times a user adds to playlist"
   ]
  },
  {
   "cell_type": "code",
   "execution_count": 110,
   "metadata": {},
   "outputs": [],
   "source": [
    "f6=df_cleaned_1.filter(col('page')=='Add to Playlist').groupBy('userId').agg(F.count(col('page')).alias('Add_to_playlist_clicks'))"
   ]
  },
  {
   "cell_type": "markdown",
   "metadata": {},
   "source": [
    "### How many times user clicks on Thumbs up"
   ]
  },
  {
   "cell_type": "code",
   "execution_count": 111,
   "metadata": {},
   "outputs": [],
   "source": [
    "f7=df_cleaned_1.filter(col('page')=='Thumbs Up').groupBy('userId').agg(F.count(col('page')).alias('Thumbs_up_clicks'))"
   ]
  },
  {
   "cell_type": "markdown",
   "metadata": {},
   "source": [
    "### How many time a user adds a friend"
   ]
  },
  {
   "cell_type": "code",
   "execution_count": 112,
   "metadata": {},
   "outputs": [],
   "source": [
    "f8=df_cleaned_1.filter(col('page')=='Add Friend').groupBy('userId').agg(F.count(col('page')).alias('Add_Friend_clicks'))"
   ]
  },
  {
   "cell_type": "markdown",
   "metadata": {},
   "source": [
    "### How many times user clicks on Thumbs Down"
   ]
  },
  {
   "cell_type": "code",
   "execution_count": 113,
   "metadata": {},
   "outputs": [],
   "source": [
    "f9=df_cleaned_1.filter(col('page')=='Thumbs Down').groupBy('userId').agg(F.count(col('page')).alias('Thumbs_Down_clicks'))"
   ]
  },
  {
   "cell_type": "markdown",
   "metadata": {},
   "source": [
    "#### Join all the feautures"
   ]
  },
  {
   "cell_type": "code",
   "execution_count": 114,
   "metadata": {},
   "outputs": [],
   "source": [
    "master_data=f1.join(f2,on=['userId'],how='left').join(f3,on=['userId'],how='left').\\\n",
    "join(f4,on=['userId'],how='left').join(f5,on=['userId'],how='left').\\\n",
    "join(f6,on=['userId'],how='left').join(f7,on=['userId'],how='left').\\\n",
    "join(f8,on=['userId'],how='left').join(f9,on=['userId'],how='left')"
   ]
  },
  {
   "cell_type": "code",
   "execution_count": 115,
   "metadata": {},
   "outputs": [
    {
     "data": {
      "text/plain": [
       "{'userId': 0,\n",
       " 'gender': 0,\n",
       " 'level': 0,\n",
       " 'user_churn': 0,\n",
       " 'Mean_session_Mins': 0,\n",
       " 'Avg_artist_per_session': 0,\n",
       " 'Avg_session_mins': 0,\n",
       " 'Next_Song_clicks': 0,\n",
       " 'Add_to_playlist_clicks': 10,\n",
       " 'Thumbs_up_clicks': 5,\n",
       " 'Add_Friend_clicks': 22,\n",
       " 'Thumbs_Down_clicks': 23}"
      ]
     },
     "execution_count": 115,
     "metadata": {},
     "output_type": "execute_result"
    }
   ],
   "source": [
    "check_nulls(master_data)"
   ]
  },
  {
   "cell_type": "code",
   "execution_count": 116,
   "metadata": {},
   "outputs": [],
   "source": [
    "master_data=master_data.na.fill(0)"
   ]
  },
  {
   "cell_type": "code",
   "execution_count": 117,
   "metadata": {},
   "outputs": [
    {
     "data": {
      "text/plain": [
       "{'userId': 0,\n",
       " 'gender': 0,\n",
       " 'level': 0,\n",
       " 'user_churn': 0,\n",
       " 'Mean_session_Mins': 0,\n",
       " 'Avg_artist_per_session': 0,\n",
       " 'Avg_session_mins': 0,\n",
       " 'Next_Song_clicks': 0,\n",
       " 'Add_to_playlist_clicks': 0,\n",
       " 'Thumbs_up_clicks': 0,\n",
       " 'Add_Friend_clicks': 0,\n",
       " 'Thumbs_Down_clicks': 0}"
      ]
     },
     "execution_count": 117,
     "metadata": {},
     "output_type": "execute_result"
    }
   ],
   "source": [
    "check_nulls(master_data)"
   ]
  },
  {
   "cell_type": "markdown",
   "metadata": {},
   "source": [
    "## Lets convert String column to integer"
   ]
  },
  {
   "cell_type": "code",
   "execution_count": 118,
   "metadata": {},
   "outputs": [],
   "source": [
    "master_data=master_data.withColumn('gender',F.when(col('gender')=='F',1).otherwise(0))"
   ]
  },
  {
   "cell_type": "code",
   "execution_count": 119,
   "metadata": {},
   "outputs": [],
   "source": [
    "master_data=master_data.withColumn('level',F.when(col('level')=='free',1).otherwise(0))"
   ]
  },
  {
   "cell_type": "markdown",
   "metadata": {},
   "source": [
    "# Modeling\n",
    "Split the full dataset into train, test, and validation sets. Test out several of the machine learning methods you learned. Evaluate the accuracy of the various models, tuning parameters as necessary. Determine your winning model based on test accuracy and report results on the validation set. Since the churned users are a fairly small subset, I suggest using F1 score as the metric to optimize."
   ]
  },
  {
   "cell_type": "markdown",
   "metadata": {},
   "source": [
    "### Splitting the master data in train & test"
   ]
  },
  {
   "cell_type": "code",
   "execution_count": 120,
   "metadata": {},
   "outputs": [],
   "source": [
    "from pyspark.sql.types import DoubleType\n",
    "master_data = master_data.withColumn(\"label\", master_data.user_churn.cast(DoubleType()))"
   ]
  },
  {
   "cell_type": "code",
   "execution_count": 121,
   "metadata": {},
   "outputs": [],
   "source": [
    "train_df, test_df , val_df= master_data.randomSplit([0.8, 0.1,0.1], seed=2)"
   ]
  },
  {
   "cell_type": "code",
   "execution_count": 130,
   "metadata": {},
   "outputs": [
    {
     "name": "stdout",
     "output_type": "stream",
     "text": [
      "+---------------+\n",
      "|sum(user_churn)|\n",
      "+---------------+\n",
      "|             64|\n",
      "+---------------+\n",
      "\n"
     ]
    }
   ],
   "source": [
    "train_df.select('user_churn').agg(F.sum(col('user_churn'))).show()"
   ]
  },
  {
   "cell_type": "markdown",
   "metadata": {},
   "source": [
    "### Transforming input columns user vector assembler"
   ]
  },
  {
   "cell_type": "code",
   "execution_count": 131,
   "metadata": {},
   "outputs": [],
   "source": [
    "input_cols =['gender',\n",
    " 'level',\n",
    " 'Mean_session_Mins',\n",
    " 'Avg_artist_per_session',\n",
    " 'Avg_session_mins',\n",
    " 'Next_Song_clicks',\n",
    " 'Add_to_playlist_clicks',\n",
    " 'Thumbs_up_clicks',\n",
    " 'Add_Friend_clicks',\n",
    " 'Thumbs_Down_clicks']\n",
    "\n",
    "assembler = VectorAssembler(inputCols=input_cols, outputCol=\"features\")\n",
    "scalar = MinMaxScaler(inputCol=\"features\", outputCol=\"scaled_features\")"
   ]
  },
  {
   "cell_type": "code",
   "execution_count": 132,
   "metadata": {},
   "outputs": [],
   "source": [
    "pipeline_lr = Pipeline(stages=[assembler, scalar])\n",
    "pipe_model = pipeline_lr.fit(train_df)"
   ]
  },
  {
   "cell_type": "code",
   "execution_count": 134,
   "metadata": {},
   "outputs": [],
   "source": [
    "train_transform = pipe_model.transform(train_df)\n",
    "test_transform = pipe_model.transform(test_df)\n",
    "val_transform = pipe_model.transform(val_df)"
   ]
  },
  {
   "cell_type": "code",
   "execution_count": 135,
   "metadata": {},
   "outputs": [
    {
     "data": {
      "text/plain": [
       "DataFrame[userId: string, gender: int, level: int, user_churn: int, Mean_session_Mins: double, Avg_artist_per_session: double, Avg_session_mins: double, Next_Song_clicks: bigint, Add_to_playlist_clicks: bigint, Thumbs_up_clicks: bigint, Add_Friend_clicks: bigint, Thumbs_Down_clicks: bigint, label: double, features: vector, scaled_features: vector]"
      ]
     },
     "execution_count": 135,
     "metadata": {},
     "output_type": "execute_result"
    }
   ],
   "source": [
    "train_transform.persist()\n",
    "test_transform.persist()\n",
    "val_transform.persist()"
   ]
  },
  {
   "cell_type": "markdown",
   "metadata": {},
   "source": [
    "### Logistic Regression"
   ]
  },
  {
   "cell_type": "code",
   "execution_count": 136,
   "metadata": {},
   "outputs": [
    {
     "name": "stdout",
     "output_type": "stream",
     "text": [
      "Accuracy for Logistic Regression Model is:  0.8947368421052632\n",
      "F1 score for Logistic Regression model is :  0.8450292397660818\n"
     ]
    }
   ],
   "source": [
    "lr = LogisticRegression(labelCol=\"user_churn\", \n",
    "                        featuresCol=\"features\", \n",
    "                        regParam=0.5, \n",
    "                        maxIter=10)\n",
    "\n",
    "lr_model = lr.fit(train_transform)\n",
    "lr_transformed = lr_model.transform(train_transform)\n",
    "\n",
    "\n",
    "lr_test_transformed = lr_model.transform(test_transform)\n",
    "\n",
    "lr_evaluator = MulticlassClassificationEvaluator(metricName=\"f1\")\n",
    "\n",
    "lr_score = lr_evaluator.evaluate(lr_test_transformed)\n",
    "print(\"Accuracy for Logistic Regression Model is: \", lr_test_transformed.filter(lr_test_transformed.label == lr_test_transformed.prediction).count()/ lr_test_transformed.count())\n",
    "\n",
    "print(\"F1 score for Logistic Regression model is : \", lr_score)"
   ]
  },
  {
   "cell_type": "markdown",
   "metadata": {},
   "source": [
    "### Random Forest- We will be using crossvalidator to find the optimum number of trees "
   ]
  },
  {
   "cell_type": "code",
   "execution_count": 137,
   "metadata": {},
   "outputs": [
    {
     "name": "stdout",
     "output_type": "stream",
     "text": [
      "Accuracy for Random Forest Model is:  0.9473684210526315\n",
      "F1 score for Random Forest Model is:  0.9393483709273182\n"
     ]
    }
   ],
   "source": [
    "rf = RandomForestClassifier(labelCol=\"label\", featuresCol=\"scaled_features\", numTrees=10)\n",
    "pipeline_rf = Pipeline(stages=[rf])\n",
    "\n",
    "\n",
    "paramGrid = ParamGridBuilder() \\\n",
    "    .addGrid(rf.numTrees,[5, 10, 15]) \\\n",
    "    .build()\n",
    "\n",
    "cv = CrossValidator(estimator=pipeline_rf,\n",
    "                          estimatorParamMaps=paramGrid,\n",
    "                          evaluator=MulticlassClassificationEvaluator(),\n",
    "                          numFolds=3)\n",
    "cv_fit = cv.fit(train_transform)\n",
    "\n",
    "test_fit = cv_fit.transform(test_transform)\n",
    "print(\"Accuracy for Random Forest Model is: \", test_fit.filter(test_fit.label == test_fit.prediction).count()/ test_fit.count())\n",
    "\n",
    "evaluator = MulticlassClassificationEvaluator(metricName=\"f1\")\n",
    "score = evaluator.evaluate(test_fit)\n",
    "print(\"F1 score for Random Forest Model is: \", score)"
   ]
  },
  {
   "cell_type": "markdown",
   "metadata": {},
   "source": [
    "### Validation"
   ]
  },
  {
   "cell_type": "code",
   "execution_count": 139,
   "metadata": {},
   "outputs": [
    {
     "name": "stdout",
     "output_type": "stream",
     "text": [
      "Validation Accuracy for Random Forest Model is:  0.896551724137931\n",
      "Validation F1 score for Random Forest Model is:  0.8684450227716332\n"
     ]
    }
   ],
   "source": [
    "val_fit = cv_fit.transform(val_transform)\n",
    "print(\"Validation Accuracy for Random Forest Model is: \", val_fit.filter(val_fit.label == val_fit.prediction).count()/ val_fit.count())\n",
    "\n",
    "evaluator = MulticlassClassificationEvaluator(metricName=\"f1\")\n",
    "score = evaluator.evaluate(val_fit)\n",
    "print(\"Validation F1 score for Random Forest Model is: \", score)"
   ]
  },
  {
   "cell_type": "markdown",
   "metadata": {},
   "source": [
    "#### Both the lr and rf have comparable accuracy, however the F1 score of RF is much better than LR, since F1 also takes intoaccount how many false negatives we are giving, as its  a more robust and holistic measure than accuracy, so we will be choosing therf model"
   ]
  },
  {
   "cell_type": "code",
   "execution_count": 143,
   "metadata": {},
   "outputs": [
    {
     "data": {
      "text/plain": [
       "([0, 1, 2, 3, 4, 5, 6, 7, 8, 9], <a list of 10 Text xticklabel objects>)"
      ]
     },
     "execution_count": 143,
     "metadata": {},
     "output_type": "execute_result"
    },
    {
     "data": {
      "image/png": "[encoded data removed]",
      "text/plain": [
       "<matplotlib.figure.Figure at 0x7feb21451048>"
      ]
     },
     "metadata": {
      "needs_background": "light"
     },
     "output_type": "display_data"
    }
   ],
   "source": [
    "feature_importances = cv_fit.bestModel.stages[0].featureImportances.values.tolist()\n",
    "feature_importance_df = pd.DataFrame({'feature_importance': feature_importances, 'columns': input_cols[0:10]})\n",
    "plt.bar(feature_importance_df['columns'], feature_importance_df['feature_importance'])\n",
    "plt.xticks(rotation=70)"
   ]
  },
  {
   "cell_type": "markdown",
   "metadata": {},
   "source": [
    "### As can be seen above the most important features is how many times a user clicks Thumbs up button, which is quite intuitive as this suggests that the user likes the songs suggested by the app, the second most important add friend clicks again indicative how much a user likes the experience of the application"
   ]
  },
  {
   "cell_type": "markdown",
   "metadata": {},
   "source": [
    "# Final Steps\n",
    "Clean up your code, adding comments and renaming variables to make the code easier to read and maintain. Refer to the Spark Project Overview page and Data Scientist Capstone Project Rubric to make sure you are including all components of the capstone project and meet all expectations. Remember, this includes thorough documentation in a README file in a Github repository, as well as a web app or blog post."
   ]
  },
  {
   "cell_type": "code",
   "execution_count": null,
   "metadata": {},
   "outputs": [],
   "source": []
  }
 ],
 "metadata": {
  "kernelspec": {
   "display_name": "Python 3",
   "language": "python",
   "name": "python3"
  },
  "language_info": {
   "codemirror_mode": {
    "name": "ipython",
    "version": 3
   },
   "file_extension": ".py",
   "mimetype": "text/x-python",
   "name": "python",
   "nbconvert_exporter": "python",
   "pygments_lexer": "ipython3",
   "version": "3.6.3"
  }
 },
 "nbformat": 4,
 "nbformat_minor": 2
}
